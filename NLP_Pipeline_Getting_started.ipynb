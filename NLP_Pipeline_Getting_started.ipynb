{
  "nbformat": 4,
  "nbformat_minor": 0,
  "metadata": {
    "colab": {
      "name": "04 NLP Pipeline.ipynb",
      "provenance": [],
      "collapsed_sections": [],
      "include_colab_link": true
    },
    "kernelspec": {
      "name": "python3",
      "display_name": "Python 3"
    }
  },
  "cells": [
    {
      "cell_type": "markdown",
      "metadata": {
        "id": "view-in-github",
        "colab_type": "text"
      },
      "source": [
        "<a href=\"https://colab.research.google.com/github/a-forty-two/COG_GN22CDBDS002_11_1_AI_Cloud/blob/main/NLP_Pipeline_Getting_started.ipynb\" target=\"_parent\"><img src=\"https://colab.research.google.com/assets/colab-badge.svg\" alt=\"Open In Colab\"/></a>"
      ]
    },
    {
      "cell_type": "code",
      "metadata": {
        "id": "dxy4CLtKTFqR"
      },
      "source": [
        "# LANGUAGES \n",
        "# MACHINE LEARNING works only for NUMBERS \n",
        "# y= weights*x + bias \n",
        "# How to convert words/letters/sentences into mathematical entities \n",
        "# Numbers, Vectors, Tensors \n",
        "import spacy # LIBRARIES helping with NLP-> Spacy, TExtacy, NLTK\n",
        "# PYTHON -> 3.6 \n",
        "# download DICTIONARY -> language EXPERTS, we don't create a new dictionary from scratch\n",
        "dictionary = spacy.load('en_core_web_sm')\n"
      ],
      "execution_count": null,
      "outputs": []
    },
    {
      "cell_type": "code",
      "metadata": {
        "id": "eHLfmkM3VHV1",
        "colab": {
          "base_uri": "https://localhost:8080/",
          "height": 34
        },
        "outputId": "0b68731f-f09d-472e-edda-72159cb571f1"
      },
      "source": [
        "# INSTALLING on local machine or web server\n",
        "#!python --version # (check if version is 3.6), if not, uninstall and reinstall\n",
        "# python -m spacy download en\n",
        "# python -m spacy download en_core_web_sm"
      ],
      "execution_count": null,
      "outputs": [
        {
          "output_type": "stream",
          "text": [
            "Python 3.6.9\n"
          ],
          "name": "stdout"
        }
      ]
    },
    {
      "cell_type": "code",
      "metadata": {
        "id": "O-5Fu_OWWkgE",
        "colab": {
          "base_uri": "https://localhost:8080/",
          "height": 34
        },
        "outputId": "7f7d6860-1954-4f85-cb54-f7c874fd0dfd"
      },
      "source": [
        "text = \"\"\" 'Mary had a little lamb, little lamb, little lamb!' \n",
        "Grass is green, sky is blue. \"What did you say?\"\n",
        "\n",
        "  'I am not present here', she said.\n",
        "\"\"\"\n",
        "tokens = dictionary(text)\n",
        "# TOKENS? -> TOkens are broken down pieces of text\n",
        "# DOCUMENT TOKEN, PAGES-> Paragraphs-> SEntences -> WORDS -> LETTERS \n",
        "# ALL ABOVE ARE TOKENS \n",
        "# COMPILER DESIGN -> BREAK down things into TREES and parse the tree\n",
        "\n",
        "text[-2]"
      ],
      "execution_count": null,
      "outputs": [
        {
          "output_type": "execute_result",
          "data": {
            "text/plain": [
              "' '"
            ]
          },
          "metadata": {
            "tags": []
          },
          "execution_count": 17
        }
      ]
    },
    {
      "cell_type": "code",
      "metadata": {
        "id": "bDDx-HANX5Cc",
        "colab": {
          "base_uri": "https://localhost:8080/",
          "height": 34
        },
        "outputId": "8784732e-038c-474e-aac9-a31205716d21"
      },
      "source": [
        "tokens[-2] # THIS ISN't a STRING anymore, this is a LIST of tokens \n",
        "# END of a sentence, \n",
        "# or word will be used to break down complex structure into tokens"
      ],
      "execution_count": null,
      "outputs": [
        {
          "output_type": "execute_result",
          "data": {
            "text/plain": [
              "."
            ]
          },
          "metadata": {
            "tags": []
          },
          "execution_count": 20
        }
      ]
    },
    {
      "cell_type": "code",
      "metadata": {
        "id": "qKfw2_2BX9_m",
        "colab": {
          "base_uri": "https://localhost:8080/",
          "height": 1000
        },
        "outputId": "47084974-72d4-409d-b409-9dd17bf8050e"
      },
      "source": [
        "#dir(tokens[0])\n"
      ],
      "execution_count": null,
      "outputs": [
        {
          "output_type": "execute_result",
          "data": {
            "text/plain": [
              "['_',\n",
              " '__bytes__',\n",
              " '__class__',\n",
              " '__delattr__',\n",
              " '__dir__',\n",
              " '__doc__',\n",
              " '__eq__',\n",
              " '__format__',\n",
              " '__ge__',\n",
              " '__getattribute__',\n",
              " '__gt__',\n",
              " '__hash__',\n",
              " '__init__',\n",
              " '__init_subclass__',\n",
              " '__le__',\n",
              " '__len__',\n",
              " '__lt__',\n",
              " '__ne__',\n",
              " '__new__',\n",
              " '__pyx_vtable__',\n",
              " '__reduce__',\n",
              " '__reduce_ex__',\n",
              " '__repr__',\n",
              " '__setattr__',\n",
              " '__sizeof__',\n",
              " '__str__',\n",
              " '__subclasshook__',\n",
              " '__unicode__',\n",
              " 'ancestors',\n",
              " 'check_flag',\n",
              " 'children',\n",
              " 'cluster',\n",
              " 'conjuncts',\n",
              " 'dep',\n",
              " 'dep_',\n",
              " 'doc',\n",
              " 'ent_id',\n",
              " 'ent_id_',\n",
              " 'ent_iob',\n",
              " 'ent_iob_',\n",
              " 'ent_kb_id',\n",
              " 'ent_kb_id_',\n",
              " 'ent_type',\n",
              " 'ent_type_',\n",
              " 'get_extension',\n",
              " 'has_extension',\n",
              " 'has_vector',\n",
              " 'head',\n",
              " 'i',\n",
              " 'idx',\n",
              " 'is_alpha',\n",
              " 'is_ancestor',\n",
              " 'is_ascii',\n",
              " 'is_bracket',\n",
              " 'is_currency',\n",
              " 'is_digit',\n",
              " 'is_left_punct',\n",
              " 'is_lower',\n",
              " 'is_oov',\n",
              " 'is_punct',\n",
              " 'is_quote',\n",
              " 'is_right_punct',\n",
              " 'is_sent_start',\n",
              " 'is_space',\n",
              " 'is_stop',\n",
              " 'is_title',\n",
              " 'is_upper',\n",
              " 'lang',\n",
              " 'lang_',\n",
              " 'left_edge',\n",
              " 'lefts',\n",
              " 'lemma',\n",
              " 'lemma_',\n",
              " 'lex_id',\n",
              " 'like_email',\n",
              " 'like_num',\n",
              " 'like_url',\n",
              " 'lower',\n",
              " 'lower_',\n",
              " 'morph',\n",
              " 'n_lefts',\n",
              " 'n_rights',\n",
              " 'nbor',\n",
              " 'norm',\n",
              " 'norm_',\n",
              " 'orth',\n",
              " 'orth_',\n",
              " 'pos',\n",
              " 'pos_',\n",
              " 'prefix',\n",
              " 'prefix_',\n",
              " 'prob',\n",
              " 'rank',\n",
              " 'remove_extension',\n",
              " 'right_edge',\n",
              " 'rights',\n",
              " 'sent',\n",
              " 'sent_start',\n",
              " 'sentiment',\n",
              " 'set_extension',\n",
              " 'shape',\n",
              " 'shape_',\n",
              " 'similarity',\n",
              " 'string',\n",
              " 'subtree',\n",
              " 'suffix',\n",
              " 'suffix_',\n",
              " 'tag',\n",
              " 'tag_',\n",
              " 'tensor',\n",
              " 'text',\n",
              " 'text_with_ws',\n",
              " 'vector',\n",
              " 'vector_norm',\n",
              " 'vocab',\n",
              " 'whitespace_']"
            ]
          },
          "metadata": {
            "tags": []
          },
          "execution_count": 26
        }
      ]
    },
    {
      "cell_type": "code",
      "metadata": {
        "id": "lu_s54NrYzdz",
        "colab": {
          "base_uri": "https://localhost:8080/",
          "height": 34
        },
        "outputId": "b1c6d4e2-861c-4916-cef0-d84499525d10"
      },
      "source": [
        "tokens[0].shape # I AM EXPECTING a list of numbers, representing vector "
      ],
      "execution_count": null,
      "outputs": [
        {
          "output_type": "execute_result",
          "data": {
            "text/plain": [
              "8532415787641010193"
            ]
          },
          "metadata": {
            "tags": []
          },
          "execution_count": 30
        }
      ]
    },
    {
      "cell_type": "code",
      "metadata": {
        "id": "_2cEH-sQU4Pa",
        "colab": {
          "base_uri": "https://localhost:8080/",
          "height": 258
        },
        "outputId": "c2e0e0d7-9cba-4307-b071-d380b4dd1eda"
      },
      "source": [
        "# DEPENDENCY TREE\n",
        "import spacy\n",
        "nlp = spacy.load('en_core_web_sm')\n",
        "text = \"Peter is eating a sandwich\"\n",
        "tokens = nlp(text)\n",
        "from spacy import displacy # dependency trees \n",
        "displacy.render(tokens, style='dep', jupyter=True, options={'distance':100})"
      ],
      "execution_count": null,
      "outputs": [
        {
          "output_type": "display_data",
          "data": {
            "text/html": [
              "<span class=\"tex2jax_ignore\"><svg xmlns=\"http://www.w3.org/2000/svg\" xmlns:xlink=\"http://www.w3.org/1999/xlink\" xml:lang=\"en\" id=\"b8d9363f532f4b2d86bc12f208b41070-0\" class=\"displacy\" width=\"550\" height=\"237.0\" direction=\"ltr\" style=\"max-width: none; height: 237.0px; color: #000000; background: #ffffff; font-family: Arial; direction: ltr\">\n",
              "<text class=\"displacy-token\" fill=\"currentColor\" text-anchor=\"middle\" y=\"147.0\">\n",
              "    <tspan class=\"displacy-word\" fill=\"currentColor\" x=\"50\">Peter</tspan>\n",
              "    <tspan class=\"displacy-tag\" dy=\"2em\" fill=\"currentColor\" x=\"50\">PROPN</tspan>\n",
              "</text>\n",
              "\n",
              "<text class=\"displacy-token\" fill=\"currentColor\" text-anchor=\"middle\" y=\"147.0\">\n",
              "    <tspan class=\"displacy-word\" fill=\"currentColor\" x=\"150\">is</tspan>\n",
              "    <tspan class=\"displacy-tag\" dy=\"2em\" fill=\"currentColor\" x=\"150\">AUX</tspan>\n",
              "</text>\n",
              "\n",
              "<text class=\"displacy-token\" fill=\"currentColor\" text-anchor=\"middle\" y=\"147.0\">\n",
              "    <tspan class=\"displacy-word\" fill=\"currentColor\" x=\"250\">eating</tspan>\n",
              "    <tspan class=\"displacy-tag\" dy=\"2em\" fill=\"currentColor\" x=\"250\">VERB</tspan>\n",
              "</text>\n",
              "\n",
              "<text class=\"displacy-token\" fill=\"currentColor\" text-anchor=\"middle\" y=\"147.0\">\n",
              "    <tspan class=\"displacy-word\" fill=\"currentColor\" x=\"350\">a</tspan>\n",
              "    <tspan class=\"displacy-tag\" dy=\"2em\" fill=\"currentColor\" x=\"350\">DET</tspan>\n",
              "</text>\n",
              "\n",
              "<text class=\"displacy-token\" fill=\"currentColor\" text-anchor=\"middle\" y=\"147.0\">\n",
              "    <tspan class=\"displacy-word\" fill=\"currentColor\" x=\"450\">sandwich</tspan>\n",
              "    <tspan class=\"displacy-tag\" dy=\"2em\" fill=\"currentColor\" x=\"450\">NOUN</tspan>\n",
              "</text>\n",
              "\n",
              "<g class=\"displacy-arrow\">\n",
              "    <path class=\"displacy-arc\" id=\"arrow-b8d9363f532f4b2d86bc12f208b41070-0-0\" stroke-width=\"2px\" d=\"M70,102.0 C70,2.0 250.0,2.0 250.0,102.0\" fill=\"none\" stroke=\"currentColor\"/>\n",
              "    <text dy=\"1.25em\" style=\"font-size: 0.8em; letter-spacing: 1px\">\n",
              "        <textPath xlink:href=\"#arrow-b8d9363f532f4b2d86bc12f208b41070-0-0\" class=\"displacy-label\" startOffset=\"50%\" side=\"left\" fill=\"currentColor\" text-anchor=\"middle\">nsubj</textPath>\n",
              "    </text>\n",
              "    <path class=\"displacy-arrowhead\" d=\"M70,104.0 L62,92.0 78,92.0\" fill=\"currentColor\"/>\n",
              "</g>\n",
              "\n",
              "<g class=\"displacy-arrow\">\n",
              "    <path class=\"displacy-arc\" id=\"arrow-b8d9363f532f4b2d86bc12f208b41070-0-1\" stroke-width=\"2px\" d=\"M170,102.0 C170,52.0 245.0,52.0 245.0,102.0\" fill=\"none\" stroke=\"currentColor\"/>\n",
              "    <text dy=\"1.25em\" style=\"font-size: 0.8em; letter-spacing: 1px\">\n",
              "        <textPath xlink:href=\"#arrow-b8d9363f532f4b2d86bc12f208b41070-0-1\" class=\"displacy-label\" startOffset=\"50%\" side=\"left\" fill=\"currentColor\" text-anchor=\"middle\">aux</textPath>\n",
              "    </text>\n",
              "    <path class=\"displacy-arrowhead\" d=\"M170,104.0 L162,92.0 178,92.0\" fill=\"currentColor\"/>\n",
              "</g>\n",
              "\n",
              "<g class=\"displacy-arrow\">\n",
              "    <path class=\"displacy-arc\" id=\"arrow-b8d9363f532f4b2d86bc12f208b41070-0-2\" stroke-width=\"2px\" d=\"M370,102.0 C370,52.0 445.0,52.0 445.0,102.0\" fill=\"none\" stroke=\"currentColor\"/>\n",
              "    <text dy=\"1.25em\" style=\"font-size: 0.8em; letter-spacing: 1px\">\n",
              "        <textPath xlink:href=\"#arrow-b8d9363f532f4b2d86bc12f208b41070-0-2\" class=\"displacy-label\" startOffset=\"50%\" side=\"left\" fill=\"currentColor\" text-anchor=\"middle\">det</textPath>\n",
              "    </text>\n",
              "    <path class=\"displacy-arrowhead\" d=\"M370,104.0 L362,92.0 378,92.0\" fill=\"currentColor\"/>\n",
              "</g>\n",
              "\n",
              "<g class=\"displacy-arrow\">\n",
              "    <path class=\"displacy-arc\" id=\"arrow-b8d9363f532f4b2d86bc12f208b41070-0-3\" stroke-width=\"2px\" d=\"M270,102.0 C270,2.0 450.0,2.0 450.0,102.0\" fill=\"none\" stroke=\"currentColor\"/>\n",
              "    <text dy=\"1.25em\" style=\"font-size: 0.8em; letter-spacing: 1px\">\n",
              "        <textPath xlink:href=\"#arrow-b8d9363f532f4b2d86bc12f208b41070-0-3\" class=\"displacy-label\" startOffset=\"50%\" side=\"left\" fill=\"currentColor\" text-anchor=\"middle\">dobj</textPath>\n",
              "    </text>\n",
              "    <path class=\"displacy-arrowhead\" d=\"M450.0,104.0 L458.0,92.0 442.0,92.0\" fill=\"currentColor\"/>\n",
              "</g>\n",
              "</svg></span>"
            ],
            "text/plain": [
              "<IPython.core.display.HTML object>"
            ]
          },
          "metadata": {
            "tags": []
          }
        }
      ]
    },
    {
      "cell_type": "code",
      "metadata": {
        "id": "1LNF5g8satrb",
        "colab": {
          "base_uri": "https://localhost:8080/",
          "height": 34
        },
        "outputId": "8a07cf5d-d0cb-408d-a1bb-ec787897751c"
      },
      "source": [
        "# HUGE amount of text -> COPY paste huge amoung of text on your favorite topic\n",
        "# and save as txt -> then upload in google colab\n",
        "import spacy\n",
        "f = open('text.txt','rt')\n",
        "content = f.read()\n",
        "nlp = spacy.load('en_core_web_sm')\n",
        "tokens = nlp(content) # TEXT-> TOKENS-> POS tagging is complete as per SPACY\n",
        "len(tokens) \n",
        "# Here we saw 2 kind of errors -> ENCODING ERRORS \n",
        "# ENC/DECODING : https://www.geeksforgeeks.org/python-strings-decode-method/\n",
        "\n"
      ],
      "execution_count": null,
      "outputs": [
        {
          "output_type": "execute_result",
          "data": {
            "text/plain": [
              "5412"
            ]
          },
          "metadata": {
            "tags": []
          },
          "execution_count": 59
        }
      ]
    },
    {
      "cell_type": "code",
      "metadata": {
        "id": "yj-jsMLsYs2V",
        "colab": {
          "base_uri": "https://localhost:8080/",
          "height": 137
        },
        "outputId": "426018d9-8934-45b7-ef03-55c2892971b3"
      },
      "source": [
        "for i in range(50):\n",
        "  if(tokens[i].tag_ == 'NNS'): # PLURAL NOUNS, Named ENtity Recognition\n",
        "    print(tokens[i].text)"
      ],
      "execution_count": null,
      "outputs": [
        {
          "output_type": "stream",
          "text": [
            "stomatopods\n",
            "crustaceans\n",
            "species\n",
            "clubs\n",
            "others\n",
            "forelimbs\n",
            "members\n"
          ],
          "name": "stdout"
        }
      ]
    },
    {
      "cell_type": "code",
      "metadata": {
        "id": "zVEVwq1dZXD-"
      },
      "source": [
        "for i in range(1000):\n",
        "  if(tokens[i].tag_ == 'NNS'): # PLURAL NOUNS, Named ENtity Recognition\n",
        "    print(tokens[i].text)"
      ],
      "execution_count": null,
      "outputs": []
    },
    {
      "cell_type": "code",
      "metadata": {
        "id": "6D6iJTFqgSuC",
        "colab": {
          "base_uri": "https://localhost:8080/",
          "height": 34
        },
        "outputId": "ce28d7d7-1b44-4807-bf67-ac486baad669"
      },
      "source": [
        "!ls"
      ],
      "execution_count": null,
      "outputs": [
        {
          "output_type": "stream",
          "text": [
            "sample_data  text.txt\n"
          ],
          "name": "stdout"
        }
      ]
    },
    {
      "cell_type": "code",
      "metadata": {
        "id": "qSTDXlD6g7EI"
      },
      "source": [
        "# Porter Stemming: https://github.com/jedijulia/porter-stemmer/blob/master/stemmer.py\n",
        "# https://text-processing.com/demo/stem/\n",
        "# https://www.machinelearningplus.com/nlp/lemmatization-examples-python/ \n"
      ],
      "execution_count": null,
      "outputs": []
    },
    {
      "cell_type": "code",
      "metadata": {
        "id": "nro8gEUdlz4k",
        "colab": {
          "base_uri": "https://localhost:8080/",
          "height": 188
        },
        "outputId": "c43c46e1-bc0d-4e98-b071-688e61383b41"
      },
      "source": [
        "#https://spacy.io/api/annotation\n",
        "for i in range(10):\n",
        "  print(tokens[i].text + \" : \" + tokens[i].tag_ + \" : \"+ str(tokens[i].tag))\n",
        "# properties with and without _ mean that _ is string, without is a number"
      ],
      "execution_count": null,
      "outputs": [
        {
          "output_type": "stream",
          "text": [
            "Mantis : NN : 15308085513773655218\n",
            "shrimps : VBZ : 13927759927860985106\n",
            ", : , : 2593208677638477497\n",
            "or : CC : 17571114184892886314\n",
            "stomatopods : NNS : 783433942507015291\n",
            ", : , : 2593208677638477497\n",
            "are : VBP : 9188597074677201817\n",
            "marine : JJ : 10554686591937588953\n",
            "crustaceans : NNS : 783433942507015291\n",
            "of : IN : 1292078113972184607\n"
          ],
          "name": "stdout"
        }
      ]
    },
    {
      "cell_type": "code",
      "metadata": {
        "id": "HrMlMLBfxi_0",
        "colab": {
          "base_uri": "https://localhost:8080/",
          "height": 463
        },
        "outputId": "97c21037-17ed-488d-d9c6-90fa30f0da68"
      },
      "source": [
        "for i in range(20):\n",
        "  if(tokens[i].is_stop == True):\n",
        "    print(tokens[i].text + \" is a stop word!\")\n",
        "  print(tokens[i].text + \" : \" + tokens[i].lemma_)"
      ],
      "execution_count": null,
      "outputs": [
        {
          "output_type": "stream",
          "text": [
            "Mantis : mantis\n",
            "shrimps : shrimp\n",
            ", : ,\n",
            "or is a stop word!\n",
            "or : or\n",
            "stomatopods : stomatopod\n",
            ", : ,\n",
            "are is a stop word!\n",
            "are : be\n",
            "marine : marine\n",
            "crustaceans : crustacean\n",
            "of is a stop word!\n",
            "of : of\n",
            "the is a stop word!\n",
            "the : the\n",
            "order : order\n",
            "Stomatopoda : Stomatopoda\n",
            ". : .\n",
            "Some is a stop word!\n",
            "Some : some\n",
            "species : specie\n",
            "have is a stop word!\n",
            "have : have\n",
            "specialised : specialise\n",
            "calcified : calcify\n",
            "\" : \"\n"
          ],
          "name": "stdout"
        }
      ]
    },
    {
      "cell_type": "code",
      "metadata": {
        "id": "qZDUhlGX0FAU",
        "colab": {
          "base_uri": "https://localhost:8080/",
          "height": 1000
        },
        "outputId": "678735bf-d277-40cb-cf90-6efb91f03108"
      },
      "source": [
        "# Wren and Martin -> English \n",
        "\n",
        "spacy_stopwords = spacy.lang.en.stop_words.STOP_WORDS\n",
        "spacy_stopwords"
      ],
      "execution_count": null,
      "outputs": [
        {
          "output_type": "execute_result",
          "data": {
            "text/plain": [
              "{\"'d\",\n",
              " \"'ll\",\n",
              " \"'m\",\n",
              " \"'re\",\n",
              " \"'s\",\n",
              " \"'ve\",\n",
              " 'a',\n",
              " 'about',\n",
              " 'above',\n",
              " 'across',\n",
              " 'after',\n",
              " 'afterwards',\n",
              " 'again',\n",
              " 'against',\n",
              " 'all',\n",
              " 'almost',\n",
              " 'alone',\n",
              " 'along',\n",
              " 'already',\n",
              " 'also',\n",
              " 'although',\n",
              " 'always',\n",
              " 'am',\n",
              " 'among',\n",
              " 'amongst',\n",
              " 'amount',\n",
              " 'an',\n",
              " 'and',\n",
              " 'another',\n",
              " 'any',\n",
              " 'anyhow',\n",
              " 'anyone',\n",
              " 'anything',\n",
              " 'anyway',\n",
              " 'anywhere',\n",
              " 'are',\n",
              " 'around',\n",
              " 'as',\n",
              " 'at',\n",
              " 'back',\n",
              " 'be',\n",
              " 'became',\n",
              " 'because',\n",
              " 'become',\n",
              " 'becomes',\n",
              " 'becoming',\n",
              " 'been',\n",
              " 'before',\n",
              " 'beforehand',\n",
              " 'behind',\n",
              " 'being',\n",
              " 'below',\n",
              " 'beside',\n",
              " 'besides',\n",
              " 'between',\n",
              " 'beyond',\n",
              " 'both',\n",
              " 'bottom',\n",
              " 'but',\n",
              " 'by',\n",
              " 'ca',\n",
              " 'call',\n",
              " 'can',\n",
              " 'cannot',\n",
              " 'could',\n",
              " 'did',\n",
              " 'do',\n",
              " 'does',\n",
              " 'doing',\n",
              " 'done',\n",
              " 'down',\n",
              " 'due',\n",
              " 'during',\n",
              " 'each',\n",
              " 'eight',\n",
              " 'either',\n",
              " 'eleven',\n",
              " 'else',\n",
              " 'elsewhere',\n",
              " 'empty',\n",
              " 'enough',\n",
              " 'even',\n",
              " 'ever',\n",
              " 'every',\n",
              " 'everyone',\n",
              " 'everything',\n",
              " 'everywhere',\n",
              " 'except',\n",
              " 'few',\n",
              " 'fifteen',\n",
              " 'fifty',\n",
              " 'first',\n",
              " 'five',\n",
              " 'for',\n",
              " 'former',\n",
              " 'formerly',\n",
              " 'forty',\n",
              " 'four',\n",
              " 'from',\n",
              " 'front',\n",
              " 'full',\n",
              " 'further',\n",
              " 'get',\n",
              " 'give',\n",
              " 'go',\n",
              " 'had',\n",
              " 'has',\n",
              " 'have',\n",
              " 'he',\n",
              " 'hence',\n",
              " 'her',\n",
              " 'here',\n",
              " 'hereafter',\n",
              " 'hereby',\n",
              " 'herein',\n",
              " 'hereupon',\n",
              " 'hers',\n",
              " 'herself',\n",
              " 'him',\n",
              " 'himself',\n",
              " 'his',\n",
              " 'how',\n",
              " 'however',\n",
              " 'hundred',\n",
              " 'i',\n",
              " 'if',\n",
              " 'in',\n",
              " 'indeed',\n",
              " 'into',\n",
              " 'is',\n",
              " 'it',\n",
              " 'its',\n",
              " 'itself',\n",
              " 'just',\n",
              " 'keep',\n",
              " 'last',\n",
              " 'latter',\n",
              " 'latterly',\n",
              " 'least',\n",
              " 'less',\n",
              " 'made',\n",
              " 'make',\n",
              " 'many',\n",
              " 'may',\n",
              " 'me',\n",
              " 'meanwhile',\n",
              " 'might',\n",
              " 'mine',\n",
              " 'more',\n",
              " 'moreover',\n",
              " 'most',\n",
              " 'mostly',\n",
              " 'move',\n",
              " 'much',\n",
              " 'must',\n",
              " 'my',\n",
              " 'myself',\n",
              " \"n't\",\n",
              " 'name',\n",
              " 'namely',\n",
              " 'neither',\n",
              " 'never',\n",
              " 'nevertheless',\n",
              " 'next',\n",
              " 'nine',\n",
              " 'no',\n",
              " 'nobody',\n",
              " 'none',\n",
              " 'noone',\n",
              " 'nor',\n",
              " 'not',\n",
              " 'nothing',\n",
              " 'now',\n",
              " 'nowhere',\n",
              " 'n‘t',\n",
              " 'n’t',\n",
              " 'of',\n",
              " 'off',\n",
              " 'often',\n",
              " 'on',\n",
              " 'once',\n",
              " 'one',\n",
              " 'only',\n",
              " 'onto',\n",
              " 'or',\n",
              " 'other',\n",
              " 'others',\n",
              " 'otherwise',\n",
              " 'our',\n",
              " 'ours',\n",
              " 'ourselves',\n",
              " 'out',\n",
              " 'over',\n",
              " 'own',\n",
              " 'part',\n",
              " 'per',\n",
              " 'perhaps',\n",
              " 'please',\n",
              " 'put',\n",
              " 'quite',\n",
              " 'rather',\n",
              " 're',\n",
              " 'really',\n",
              " 'regarding',\n",
              " 'same',\n",
              " 'say',\n",
              " 'see',\n",
              " 'seem',\n",
              " 'seemed',\n",
              " 'seeming',\n",
              " 'seems',\n",
              " 'serious',\n",
              " 'several',\n",
              " 'she',\n",
              " 'should',\n",
              " 'show',\n",
              " 'side',\n",
              " 'since',\n",
              " 'six',\n",
              " 'sixty',\n",
              " 'so',\n",
              " 'some',\n",
              " 'somehow',\n",
              " 'someone',\n",
              " 'something',\n",
              " 'sometime',\n",
              " 'sometimes',\n",
              " 'somewhere',\n",
              " 'still',\n",
              " 'such',\n",
              " 'take',\n",
              " 'ten',\n",
              " 'than',\n",
              " 'that',\n",
              " 'the',\n",
              " 'their',\n",
              " 'them',\n",
              " 'themselves',\n",
              " 'then',\n",
              " 'thence',\n",
              " 'there',\n",
              " 'thereafter',\n",
              " 'thereby',\n",
              " 'therefore',\n",
              " 'therein',\n",
              " 'thereupon',\n",
              " 'these',\n",
              " 'they',\n",
              " 'third',\n",
              " 'this',\n",
              " 'those',\n",
              " 'though',\n",
              " 'three',\n",
              " 'through',\n",
              " 'throughout',\n",
              " 'thru',\n",
              " 'thus',\n",
              " 'to',\n",
              " 'together',\n",
              " 'too',\n",
              " 'top',\n",
              " 'toward',\n",
              " 'towards',\n",
              " 'twelve',\n",
              " 'twenty',\n",
              " 'two',\n",
              " 'under',\n",
              " 'unless',\n",
              " 'until',\n",
              " 'up',\n",
              " 'upon',\n",
              " 'us',\n",
              " 'used',\n",
              " 'using',\n",
              " 'various',\n",
              " 'very',\n",
              " 'via',\n",
              " 'was',\n",
              " 'we',\n",
              " 'well',\n",
              " 'were',\n",
              " 'what',\n",
              " 'whatever',\n",
              " 'when',\n",
              " 'whence',\n",
              " 'whenever',\n",
              " 'where',\n",
              " 'whereafter',\n",
              " 'whereas',\n",
              " 'whereby',\n",
              " 'wherein',\n",
              " 'whereupon',\n",
              " 'wherever',\n",
              " 'whether',\n",
              " 'which',\n",
              " 'while',\n",
              " 'whither',\n",
              " 'who',\n",
              " 'whoever',\n",
              " 'whole',\n",
              " 'whom',\n",
              " 'whose',\n",
              " 'why',\n",
              " 'will',\n",
              " 'with',\n",
              " 'within',\n",
              " 'without',\n",
              " 'would',\n",
              " 'yet',\n",
              " 'you',\n",
              " 'your',\n",
              " 'yours',\n",
              " 'yourself',\n",
              " 'yourselves',\n",
              " '‘d',\n",
              " '‘ll',\n",
              " '‘m',\n",
              " '‘re',\n",
              " '‘s',\n",
              " '‘ve',\n",
              " '’d',\n",
              " '’ll',\n",
              " '’m',\n",
              " '’re',\n",
              " '’s',\n",
              " '’ve'}"
            ]
          },
          "metadata": {
            "tags": []
          },
          "execution_count": 48
        }
      ]
    },
    {
      "cell_type": "code",
      "metadata": {
        "id": "nQlzDm8829kN",
        "colab": {
          "base_uri": "https://localhost:8080/",
          "height": 1000
        },
        "outputId": "64935bdc-a76d-4cb2-8e40-8d5b009196eb"
      },
      "source": [
        "# removing stop words\n",
        "tokens_wostopwords = []\n",
        "for token in tokens:\n",
        "  if(token.is_stop == False):\n",
        "    tokens_wostopwords.append(token.text)\n",
        "\n",
        "print(\" \".join(tokens_wostopwords))\n",
        "len(tokens_wostopwords)"
      ],
      "execution_count": null,
      "outputs": [
        {
          "output_type": "stream",
          "text": [
            "Mantis shrimps , stomatopods , marine crustaceans order Stomatopoda . species specialised calcified \" clubs \" strike great power , sharp forelimbs capture prey . branched members class Malacostraca 340 million years ago.[2 ] Mantis shrimps typically grow 10 cm ( 3.9 ) length . reach 38 cm ( 15 in).[3 ] largest mantis shrimp caught length 46 cm ( 18 ) ; caught Indian River near Fort Pierce , Florida , United States.[4 ] mantis shrimp carapace ( bony , thick shell covers crustaceans species ) covers rear head segments thorax . Varieties range color shades brown vivid colors , 450 species mantis shrimps known . important predators shallow , tropical subtropical marine habitats . , despite common , poorly understood , species spend lives tucked away burrows holes.[5 ] \n",
            "\n",
            " Called \" sea locusts \" ancient Assyrians , \" prawn killers \" Australia,[6 ] referred \" thumb splitters\"—because animal ability inflict painful gashes handled incautiously[7]—mantis shrimps powerful claws attack kill prey spearing , stunning , dismembering . \n",
            "\n",
            " Ecology \n",
            " 451 species mantis shrimps currently discovered worldwide ; living species suborder Unipeltata arose 193 million years ago.[8][2 ] \n",
            "\n",
            " aggressive typically solitary sea creatures spend time hiding rock formations burrowing intricate passageways sea bed . rarely exit homes feed relocate , active day , nocturnal , active primarily twilight , depending species . Unlike crustaceans , hunt , chase , kill prey . live temperate seas , species live tropical subtropical waters Indian Pacific Oceans eastern Africa Hawaii . \n",
            "\n",
            " Habitat \n",
            " Mantis shrimp live burrows spend majority time.[9 ] different categories mantis shrimp – spearing smashing – favor different locations burrowing.[9 ] spearing species build habitat soft sediments smashing species burrows hard substrata coral cavities.[9 ] habitats crucial ecology use burrows sites retreat locations consuming prey.[9 ] Burrows coral cavities sites mating keeping eggs safe.[9]Stomatopod body size undergoes periodic growth necessitates finding new cavity burrow fit animal new diameter.[9 ] spearing species modify pre - established habitat burrow silt mud , expanded.[9 ] \n",
            "\n",
            " Claws \n",
            "\n",
            " Squilla mantis , showing spearing appendages \n",
            "\n",
            " Mantis shrimp \n",
            " mantis shrimp second pair thoracic appendages adapted powerful close - range combat high modifications . appendage differences divide mantis shrimp main types : hunt impaling prey spear - like structures smash prey powerful blow heavily mineralised club - like appendage . considerable damage inflicted impact robust , hammer - like claws . club divided subregions : impact region , periodic region , striated region . Mantis shrimp commonly separated distinct groups determined type claws possess : \n",
            "\n",
            " Smashers possess developed club rudimentary spear ( sharp fights kind ) ; club bludgeon smash meals apart . inner aspect terminal portion appendage possess sharp edge , cut prey mantis shrimp swims . \n",
            " Spearers armed spiny appendages topped barbed tips , stab snag prey . \n",
            " types strike rapidly unfolding swinging raptorial claws prey , inflict damage victims significantly greater size . smashers , weapons employed blinding quickness , acceleration 10,400 g ( 102,000 m / s2 335,000 ft / s2 ) speeds 23 m / s ( 83 km / h ; 51 mph ) standing start.[10 ] strike rapidly , generate vapor - filled bubbles water appendage striking surface — known cavitation bubbles.[10 ] collapse cavitation bubbles produces measurable forces prey addition instantaneous forces 1,500 newtons caused impact appendage striking surface , means prey hit twice single strike ; claw collapsing cavitation bubbles immediately follow.[11 ] initial strike misses prey , resulting shock wave stun kill . \n",
            "\n",
            " impact produce sonoluminescence collapsing bubble . produce small light collapsing bubble , light weak short - lived detected advanced scientific equipment . light emission probably biological significance , effect rapid snapping motion . Pistol shrimp produce effect similar manner . \n",
            "\n",
            " Smashers use ability attack snails , crabs , molluscs , rock oysters , blunt clubs enabling crack shells prey pieces . Spearers , , prefer meat softer animals , fish , barbed claws easily slice snag . \n",
            "\n",
            " appendages studied microscale analogue new macroscale material structures.[12 ] \n",
            "\n",
            " Eyes \n",
            "\n",
            " Lysiosquillina maculata , showing stalked eyes \n",
            " eyes mantis shrimp mounted mobile stalks independently . thought complex eyes animal kingdom complex visual system discovered.[13][14][15 ] Compared types photoreceptor cells humans possess eyes , eyes mantis shrimp 12 16 types photoreceptors cells . Furthermore , shrimp tune sensitivity long - wavelength colour vision adapt environment.[16 ] phenomenon , called \" spectral tuning \" , species - specific.[17 ] Cheroske et al . observe spectral tuning Neogonodactylus oerstedii , species monotonous natural photic environment . N. bredini , species variety habitats ranging depth 5 10 m ( found 20 m surface ) , spectral tuning observed , ability alter wavelengths maximum absorbance pronounced N. wennerae , species higher ecological / photic habitat diversity . diversity spectral tuning Stomatopoda hypothesized directly linked mutations opsin gene chromophore binding pocket.[18 ] \n",
            "\n",
            " Despite impressive range wavelengths Mantis shrimp ability , ability discriminate wavelengths 25 nm apart . suggested discriminating closely positioned wavelengths allows organisms determinations surroundings little processing delay . Having little delay evaluating surroundings important Mantis shrimp frequently combat territorial.[19 ] \n",
            "\n",
            "\n",
            " Closeup mantis shrimp showing structure eyes \n",
            " compound eye tens thousands ommatidia , clusters photoreceptor cells.[14 ] eye consists flattened hemispheres separated parallel rows specialised ommatidia , collectively called midband . number omatidial rows midband ranges six.[13][14 ] divides eye regions . configuration enables mantis shrimp objects parts eye . words , eye possesses trinocular vision depth perception . upper lower hemispheres primarily recognition form motion , like eyes crustaceans.[13 ] \n",
            "\n",
            " Mantis shrimp perceive wavelengths light ranging deep ultraviolet ( UVB ) far - red ( 300 720 nm ) polarized light.[14][19 ] mantis shrimp superfamilies Gonodactyloidea , Lysiosquilloidea , Hemisquilloidea , midband omatodial rows . Rows 1 4 process colours , rows 5 6 detect circularly linearly polarized light . types photoreceptor cells rows 1 4 , detect ultraviolet light.[13][14][19][20 ] \n",
            "\n",
            " Rows 1 4 midband specialised colour vision , deep ultraviolet far red . UV vision detect different frequency bands deep ultraviolet . , use photoreceptors combination different colour filters.[21][22 ] currently believed sensitive infrared light.[23 ] optical elements rows different classes visual pigments rhabdom ( area eye absorbs light single direction ) divided different pigmented layers ( tiers ) , different wavelengths . tiers rows 2 3 separated colour filters ( intrarhabdomal filters ) divided distinct classes , classes row . organised like sandwich - tier , colour filter class , tier , colour filter class , tier . colour filters allow mantis shrimp diverse colour vision . filters , pigments range small segment visual spectrum , 490 550 nm.[24 ] Rows 5 6 segregated different tiers , class visual pigment , ninth class , specialised polarization vision . Depending species , detect circularly polarized light , linearly polarised light , . tenth class visual pigment found upper lower hemispheres eye.[13 ] \n",
            "\n",
            " species 16 photoreceptor types , divided classes ( spectral sensitivity tuned colour filters retinas ) , 12 colour analysis different wavelengths ( including sensitive ultraviolet light[21][25 ] ) analysing polarised light . comparison , humans visual pigments , dedicated colour , human lenses block ultraviolet light . visual information leaving retina processed numerous parallel data streams leading brain , greatly reducing analytical requirements higher levels.[26 ] \n",
            "\n",
            " species mantis shrimp reported able detect circularly polarized light , documented animal , present species unknown.[27][28][29 ] biological quarter - waveplates perform uniformly visual spectrum current man - polarising optics , inspire new types optical media outperform current generation Blu - ray Disc technology.[30][31 ] \n",
            "\n",
            " species Gonodactylus smithii organism known simultaneously detect linear circular polarisation components required measure Stokes parameters , yield description polarisation . believed optimal polarisation vision.[28][32 ] animal known dynamic polarisation vision . achieved rotational eye movements maximise polarisation contrast object focus background.[33 ] eye moves independently , creates separate streams visual information.[34 ] \n",
            "\n",
            " midband covers 5 10 ° visual field given instant , like crustaceans , mantis shrimps ' eyes mounted stalks . mantis shrimps , movement stalked eye unusually free , driven 70 ° possible axes movement eyecup muscles divided functional groups . muscles scan surroundings midband , add information forms , shapes , landscape , detected upper lower hemispheres eyes . track moving objects large , rapid eye movements eyes independently . combining different techniques , including movements direction , midband cover wide range visual field . \n",
            "\n",
            " huge diversity seen mantis shrimp photoreceptors likely comes ancient gene duplication events.[24][35 ] interesting consequence duplication lack correlation opsin transcript number physiologically expressed photoreceptors.[24 ] species different opsin genes , express spectrally distinct photoreceptor . years , mantis shrimp species lost ancestral phenotype , maintain 16 distinct photoreceptors light filters . Species live variety photic environments high selective pressure photoreceptor diversity , maintain ancestral phenotypes better species live murky waters primarily nocturnal.[24][36 ] \n",
            "\n",
            " Suggested advantages visual system \n",
            "\n",
            " Close - trinocular vision Pseudosquilla ciliata \n",
            " advantage sensitivity polarisation confers unclear ; , polarisation vision animals sexual signaling secret communication avoids attention predators.[37 ] mechanism provide evolutionary advantage ; requires small changes cell eye easily lead natural selection.[38 ] \n",
            "\n",
            " eyes mantis shrimps enable recognise different types coral , prey species ( transparent semitransparent ) , predators , barracuda , shimmering scales . Alternatively , manner hunt ( rapid movements claws ) require accurate ranging information , require accurate depth perception . \n",
            "\n",
            " mating rituals , mantis shrimps actively fluoresce , wavelength fluorescence matches wavelengths detected eye pigments.[39 ] Females fertile certain phases tidal cycle ; ability perceive phase moon , , help prevent wasted mating efforts . shrimps information size tide , important species living shallow water near shore . \n",
            "\n",
            " capacity UV light enable observation hard - - detect prey coral reefs.[25 ] \n",
            "\n",
            " visual experience colours different humans ; eyes actually mechanism operates level individual cones makes brain efficient . system allows visual information preprocessed eyes instead brain , larger deal stream raw data , requiring time energy . eyes complex fully understood , principle system appears simple.[40 ] similar function human eye , works opposite manner . human brain , inferior temporal cortex huge number colour - specific neurons , process visual impulses eyes create colourful experiences . mantis shrimp instead uses different types photoreceptors eyes perform function human brain neurons , resulting hardwired efficient system animal requires rapid colour identification . Humans fewer types photoreceptors , colour - tuned neurons , mantis shrimps appears fewer colour neurons classes photoreceptors.[41 ] \n",
            "\n",
            " publication researchers University Queensland stated compound eyes mantis shrimp detect cancer activity neurons , sensitive detecting polarised light reflects differently cancerous healthy tissue . study claims ability replicated camera use aluminium nanowires replicate polarisation - filtering microvilli photodiodes.[42][43 ] February 2016 , shrimps found form reflector polarised light seen nature human technology . allows manipulation light structure depth , typical way polarisers work . allows structure small microscopically thin , able produce big , bright , colourful polarised signals.[44 ] \n",
            "\n",
            " Behaviour \n",
            "\n",
            " Drawing mantis shrimp Richard Lydekker , 1896 \n",
            " Mantis shrimps long - lived exhibit complex behaviour , ritualised fighting . species use fluorescent patterns bodies signalling maybe species , expanding range behavioural signals . learn remember , able recognise individual neighbours frequently interact . recognise visual signs individual smell . developed complex social behaviours defend space rivals . \n",
            "\n",
            " lifetime , 20 30 breeding episodes . Depending species , eggs laid kept burrow , carried female tail hatch . depending species , males females come mate , bond monogamous , long - term relationships.[45 ] \n",
            "\n",
            " monogamous species , mantis shrimps remain partner 20 years . share burrow able coordinate activities . sexes care eggs ( bi parental care ) . Pullosquilla species Nannosquilla , female lays clutches eggs - male tends female tends . species , female looks eggs male hunts . eggs hatch , offspring spend months plankton . \n",
            "\n",
            " stomatopods typically display standard types movement seen true shrimp lobsters , species , Nannosquilla decemspinosa , observed flipping crude wheel . species lives shallow , sandy areas . low tides , N. decemspinosa stranded short rear legs , sufficient movement body supported water , dry land . mantis shrimp performs forward flip attempt roll tide pool . N. observed roll repeatedly 2 m ( 6.6 ft ) , specimens typically travel 1 m ( 3.3 ft).[46 ] \n",
            "\n",
            " Culinary uses \n",
            "\n",
            " Mantis shrimp caught Hậu Lộc , Thanh Hóa , Vietnam \n",
            " Japanese cuisine , mantis shrimp species Oratosquilla oratoria , called shako ( 蝦蛄 ) , eaten boiled sushi topping , occasionally raw sashimi . \n",
            "\n",
            " Mantis shrimps abundant Vietnam coast , known Vietnamese bề bề tôm tít . regions Nha Trang , called bàn chải , named resemblance scrub brush . shrimp steamed , boiled , grilled , dried , pepper , salt lime , fish sauce tamarind , fennel.[47 ] \n",
            "\n",
            " Cantonese cuisine , mantis shrimp known \" pissing shrimp \" ( Chinese : 瀨尿蝦 ; pinyin : lài niào xiā ; Jyutping : laaih niu hā ) tendency shoot jet water picked . cooking , flesh closer lobsters shrimp , like lobsters , shells hard require pressure crack . Usually , deep fried garlic chili peppers . \n",
            "\n",
            " Mediterranean countries , mantis shrimp Squilla mantis common seafood , especially Adriatic coasts ( canocchia ) Gulf Cádiz ( galera ) . \n",
            "\n",
            " Philippines , mantis shrimp known tatampal , hipong - dapa , alupihang - dagat , cooked eaten like shrimp . \n",
            "\n",
            " Hawaii , mantis shrimp grown unusually large contaminated water Grand Ala Wai Canal Waikiki . dangers normally associated consuming seafood caught contaminated waters present mantis shrimp.[3 ] \n",
            "\n",
            " Enormous Hermit Crab Tears Coconuts , Eats KittensOur hero thank lucky stars Rubber Legs mimic praying mantis ’ oceanic ( totally unrelated ) counterpart : astonishingly lethal mantis shrimp . dismembered limb limb surgical strikes , mucked tone lighthearted movie . \n",
            "\n",
            " stomatopods , 550 known species mantis shrimp range inch long foot . feisty , beautifully complex creatures strike quickly momentarily superheat water spring - loaded clubs temperature nearly hot surface sun . \n",
            "\n",
            " particularly big , fight looks funny . Octopuses , humans , – . , mantis shrimp grab ass . kicks . \n",
            "\n",
            "\n",
            " ARROW \n",
            " LISTS \n",
            " 10 Eye - Popping Facts Mantis Shrimp \n",
            " MICHELE DEBCZAK SEPTEMBER 22 , 2016 \n",
            " iStock \n",
            " ISTOCK \n",
            " \" Beautiful \" \" deadly \" descriptors typically attached shrimp . mantis shrimp class . colorful specimen earned reputation fearsome creatures deep . 10 facts worth knowing pint - sized bruisers . \n",
            "\n",
            " 1 . THEY’RE SHRIMP . \n",
            "\n",
            " Despite namesake relatively puny stature , mantis shrimp shrimp . ( , course , mantises . ) stomatopods , distant relatives crabs , shrimp , lobsters . \n",
            "\n",
            " 2 . PACK POWERFUL PUNCH . \n",
            "\n",
            " peacock mantis shrimp ( Odontodactylus scyllarus ) uses appendages called dactyl clubs pummel prey like aquatic Rock ' Em Sock ' Em Robots — , kids ’ toys punch fast boil water split fingers bone . wrecking ball \" fists \" spring forth bodies 50 mph , accelerating quicker .22-caliber bullet . speeds , water surrounding briefly reaches temperature Sun surface . dactyl clubs hit target , deliver 160 pounds force , smashing shells like lightning - fast crab mallet . \n",
            "\n",
            "\n",
            " 3 . HUNDREDS SPECIES . \n",
            "\n",
            " Mantis shrimp come variety species , aware 550 . Stomatopods different species range size smaller inch longer foot . usually classified murder method — smashing , detailed , spearing . place dactyl clubs , spearers sharp appendages bodies built harpooning prey . Spear - wielding mantis shrimp fast club - fisted counterparts ( strikes 10 times slower ) , threat death impalement intimidating . \n",
            "\n",
            " 4 . VISION UNPARALLELED . \n",
            "\n",
            " iStock \n",
            " Peacock mantis shrimp complex set peepers animal kingdom . eye contains 12 photoreceptors allow sense different types color . comparison , human eyes typically contain types light - sensitive cells seeing red , blue , green . led conclude mantis shrimp perceive world psychedelic rainbow vibrant color begin comprehend . reality , crustaceans actually worse differentiating subtle variations hue . \n",
            "\n",
            " study University Queensland found mantis shrimp shown colors difference wavelength 25 nanometers , trouble telling apart . mantis shrimp variations powder blue periwinkle mean vision extraordinary . contrary , optic abilities completely separate level , functioning like satellite found nature . Scientists believe mantis shrimp visual information brains processing , allowing react surroundings quickly possible . independently roaming eyes trinocular vision excellent hunters . \n",
            "\n",
            " 5 . SHARE SECRET LANGUAGE . \n",
            "\n",
            " Roy Caldwell , University California , Berkeley \n",
            " \n",
            " addition epic abilities listed , mantis shrimp creatures capable seeing polarized light . allowed develop secret code undetectable species . Haptosquilla trispinosa species mantis shrimp wields feathery feeding appendages called maxillipeds marked iridescent , blue spots . cells features reflect light unique way . Instead bouncing light reflective structure like polarizing cells developed humans , cells distribute light spot surface . brilliant light plainly visible mantis shrimp , allowing signal members species staying hidden predators . \n",
            "\n",
            " 6 . WON’T FIND AQUARIUMS . \n",
            "\n",
            " Prilfish Flickr // CC 2.0 \n",
            " think mantis shrimp technicolor exterior staple aquariums , creature rarely kept captivity . dactyl clubs allow shatter shellfish capable cracking glass tank . aquariums accept ruthless specimen collection , kept shatterproof acrylic glass . , captive mantis shrimp needs sole occupant specially constructed home , lest decides treat tank - mates punching bags . \n",
            "\n",
            " 7 . MENACING SOUNDS . \n",
            "\n",
            " Elias Levy Flickr // CC 2.0 \n",
            " natural creature ferocious stomatopod threatening match . California mantis shrimp known low , rumbling growling sounds wild lab . Male mantis shrimp emit grunts dawn dusk , periods day likely hunting food guarding homes . Scientists theorize growls meant attract mates ward competitors . \n",
            "\n",
            " 8 . THEY’RE HELPING SCIENTISTS BUILD BETTER BODY ARMOR . \n",
            "\n",
            " Jens Petersen Wikimedia Commons // CC - - SA-3.0 \n",
            " \n",
            " mantis shrimp super - powered punching abilities raise puzzling question : animal deliver deadly blow injuring ? mystery , researchers looked composition peacock mantis shrimp built - weaponry . found creature dactyl clubs consisted outer coating hydroxyapatite , hard crystalline calcium - phosphate ceramic material . Beneath surface lies key animal anti - fracturing qualities . Layers elastic polysaccharide chitin underlying shell positioned way act shock absorbers , reducing possibility cracks . design effective researchers modeled new type carbon fiber material potential applications aircraft panels military body armor . \n",
            "\n",
            " 9 . PRACTICE SOCIAL MONOGAMY . \n",
            "\n",
            "\n",
            " Barry Peters Wikimedia Commons // CC 2.0 \n",
            " life mantis shrimp cold - blooded killing . species stomatopods known engage rare practice social monogamy , behavior especially remarkable crustaceans . means mantis shrimp choose partner share food , shelter , raise offspring course lifetime . sound romantic humans serves practical purpose mantis shrimp . Research shown certain mantis shrimp tend cluster outside reefs instead living heart action . need looking new mate regular basis , mantis shrimp couples able enjoy relatively safe , sedentary lifestyle secluded predators . \n",
            "\n",
            " 10 . THEY’RE OLDER DINOSAURS . \n",
            "\n",
            " Derek Keats Flickr // CC 2.0 \n",
            " Stomatopods began evolving independently crustaceans nearly 400 million years ago , 170 million years dinosaurs appeared scene . followed isolated , evolutionary lineage resulted unique characteristics . biology bizarre scientists assigned nickname \" shrimp Mars . \" \n",
            "\n"
          ],
          "name": "stdout"
        },
        {
          "output_type": "execute_result",
          "data": {
            "text/plain": [
              "3239"
            ]
          },
          "metadata": {
            "tags": []
          },
          "execution_count": 52
        }
      ]
    },
    {
      "cell_type": "code",
      "metadata": {
        "id": "3DH8MBirQCSF"
      },
      "source": [
        ""
      ],
      "execution_count": null,
      "outputs": []
    },
    {
      "cell_type": "code",
      "metadata": {
        "id": "7ZVA5bvs43UX"
      },
      "source": [
        "# COMPILER DESIGN TO UNDERSTAND WHY NLP IS FOLLOWING this approach\n",
        "# https://www.guru99.com/compiler-design-phases-of-compiler.html => first\n",
        "# https://www.geeksforgeeks.org/types-of-parsers-in-compiler-design/ => second\n",
        "# \n",
        "# PARSING is the process of breaking tokens and converting into TREE nodes \n",
        "\n",
        "# DATA STRUCTURES\n",
        "# CRITICAL: http://www.uoitc.edu.iq/images/documents/informatics-institute/Competitive_exam/DataStructures.pdf\n",
        "# https://www.geeksforgeeks.org/difference-between-bfs-and-dfs/ \n",
        "\n"
      ],
      "execution_count": null,
      "outputs": []
    },
    {
      "cell_type": "code",
      "metadata": {
        "id": "xzuYmdM-SpWP"
      },
      "source": [
        ""
      ],
      "execution_count": null,
      "outputs": []
    }
  ]
}