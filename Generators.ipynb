{
  "nbformat": 4,
  "nbformat_minor": 0,
  "metadata": {
    "colab": {
      "name": "Generators.ipynb",
      "provenance": [],
      "authorship_tag": "ABX9TyOd0vWCd6ZkmwAGvPWMkBaf",
      "include_colab_link": true
    },
    "kernelspec": {
      "name": "python3",
      "display_name": "Python 3"
    },
    "language_info": {
      "name": "python"
    }
  },
  "cells": [
    {
      "cell_type": "markdown",
      "metadata": {
        "id": "view-in-github",
        "colab_type": "text"
      },
      "source": [
        "<a href=\"https://colab.research.google.com/github/a-forty-two/COG_GN22CDBDS002_11_1_AI_Cloud/blob/main/Generators.ipynb\" target=\"_parent\"><img src=\"https://colab.research.google.com/assets/colab-badge.svg\" alt=\"Open In Colab\"/></a>"
      ]
    },
    {
      "cell_type": "code",
      "execution_count": 1,
      "metadata": {
        "id": "9srpwQWxSHCU"
      },
      "outputs": [],
      "source": [
        "# COMMON LOGIC\n",
        "# Generators -> fixed LOGIC\n",
        "# Spawner-> arbitrary logic\n",
        "# Randomness-> pseudo-random (seed)-> if you keep repeating for a long time, you will start getting the SAME numbers back!\n"
      ]
    },
    {
      "cell_type": "code",
      "source": [
        "# Series and Propagation\n",
        "\n",
        "class Fibonacci:\n",
        "  def __iter__(this):\n",
        "    this.n1 = -1\n",
        "    this.n2 = 1\n",
        "    return this\n",
        "  def __next__(this):\n",
        "    this.n3 = this.n1 + this.n2\n",
        "    this.n1 = this.n2\n",
        "    this.n2 = this.n3\n",
        "    return this.n3\n"
      ],
      "metadata": {
        "id": "oB5Y3AqAS9gZ"
      },
      "execution_count": 8,
      "outputs": []
    },
    {
      "cell_type": "code",
      "source": [
        "series = Fibonacci()\n"
      ],
      "metadata": {
        "id": "UdwivCDhaYMm"
      },
      "execution_count": 9,
      "outputs": []
    },
    {
      "cell_type": "code",
      "source": [
        "i = iter(series)"
      ],
      "metadata": {
        "id": "oBsJb2WrabJQ"
      },
      "execution_count": 13,
      "outputs": []
    },
    {
      "cell_type": "code",
      "source": [
        "for j in range(20):\n",
        "  print(next(i), end=\" \")"
      ],
      "metadata": {
        "colab": {
          "base_uri": "https://localhost:8080/"
        },
        "id": "SIDQHD2haiGH",
        "outputId": "bb3e2b7a-f72b-42a0-e7f5-4130fab252d3"
      },
      "execution_count": 14,
      "outputs": [
        {
          "output_type": "stream",
          "name": "stdout",
          "text": [
            "0 1 1 2 3 5 8 13 21 34 55 89 144 233 377 610 987 1597 2584 4181 "
          ]
        }
      ]
    },
    {
      "cell_type": "code",
      "source": [
        "next(i)"
      ],
      "metadata": {
        "colab": {
          "base_uri": "https://localhost:8080/"
        },
        "id": "PdK_MwrratFI",
        "outputId": "5cb6bd8f-594f-49b6-d037-fdb31aa94f05"
      },
      "execution_count": 15,
      "outputs": [
        {
          "output_type": "execute_result",
          "data": {
            "text/plain": [
              "6765"
            ]
          },
          "metadata": {},
          "execution_count": 15
        }
      ]
    },
    {
      "cell_type": "code",
      "source": [
        ""
      ],
      "metadata": {
        "id": "ur6jci7ybFGo"
      },
      "execution_count": null,
      "outputs": []
    }
  ]
}